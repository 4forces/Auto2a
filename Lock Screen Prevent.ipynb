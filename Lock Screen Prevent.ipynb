{
 "cells": [
  {
   "cell_type": "markdown",
   "metadata": {},
   "source": [
    "## Thread Lock Screen Prevention"
   ]
  },
  {
   "cell_type": "code",
   "execution_count": 2,
   "metadata": {},
   "outputs": [
    {
     "name": "stdout",
     "output_type": "stream",
     "text": [
      "Preventing screen lock, Type Anything in the box to disable\n",
      "!11111111111111\n"
     ]
    }
   ],
   "source": [
    "import _thread as thread\n",
    "import time\n",
    "import pyautogui\n",
    "pyautogui.FAILSAFE = False\n",
    "keep_going = True\n",
    "def key_capture_thread():\n",
    "    global keep_going\n",
    "    input()\n",
    "    keep_going = False\n",
    "\n",
    "    \n",
    "def do_stuff():\n",
    "    thread.start_new_thread(key_capture_thread, ())\n",
    "    while keep_going:\n",
    "        pyautogui.press('numlock')\n",
    "        pyautogui.press('numlock')\n",
    "        time.sleep(1)\n",
    "        \n",
    "print('Preventing screen lock, Type Anything in the box to disable')\n",
    "do_stuff()"
   ]
  },
  {
   "cell_type": "markdown",
   "metadata": {},
   "source": [
    "## With GUI"
   ]
  },
  {
   "cell_type": "code",
   "execution_count": 5,
   "metadata": {},
   "outputs": [
    {
     "name": "stdout",
     "output_type": "stream",
     "text": [
      "start\n",
      "press\n",
      "press\n",
      "Stop\n"
     ]
    }
   ],
   "source": [
    "import tkinter as tk\n",
    "import pyautogui\n",
    "import time\n",
    "pyautogui.FAILSAFE = False\n",
    "keep_going = None\n",
    "jobid = None\n",
    "\n",
    "def Draw():\n",
    "    global pressbtn\n",
    "    # Create the main containers\n",
    "    frame_main= tk.Frame(root, relief=\"sunken\", borderwidth=1)\n",
    "   \n",
    "    root.title(\"Lock Prevent\")\n",
    "\n",
    "    # Lay out the main container, specify that we want it to grow with window size\n",
    "    \n",
    "    # frame_connection.grid(row=0, column=0,columnspan=2)\n",
    "    # frame_controls.grid(row=1, column=0)\n",
    "    # frame_aux_controls.grid(row=1, column=1)\n",
    "    frame_main.pack(fill=tk.BOTH, expand=False,padx=5,pady=5)\n",
    "    frame_main.pack_propagate(0)\n",
    "\n",
    "    pressbtn = tk.Button(frame_main, text = \"Start Prevent\",width=30,bg=\"green\",fg=\"white\", command=presskey)\n",
    "    pressbtn.grid(row=0, column=2, padx=5, pady=5)\n",
    "\n",
    "def presskey():\n",
    "    global keep_going, jobid,press_btn\n",
    "    if keep_going==True:\n",
    "        keep_going = False\n",
    "        pressbtn['text']= \"Prevent\"\n",
    "        pressbtn['bg']= \"green\"\n",
    "        root.after_cancel(jobid)\n",
    "        print(\"Stop\")\n",
    "    else:\n",
    "        keep_going = True\n",
    "        pressbtn['text']= \"Stop Prevent\"\n",
    "        pressbtn['bg']= \"red\"\n",
    "        print(\"start\")\n",
    "        loopprevent()\n",
    "\n",
    "def loopprevent():\n",
    "    global jobid\n",
    "    print(\"press\")\n",
    "    pyautogui.press('capslock')\n",
    "    time.sleep(1)\n",
    "    pyautogui.press('capslock')\n",
    "    jobid = root.after(5000, loopprevent)\n",
    "    \n",
    "root=tk.Tk()\n",
    "# root.resizable(0, 0)\n",
    "Draw()\n",
    "root.mainloop()"
   ]
  },
  {
   "cell_type": "code",
   "execution_count": null,
   "metadata": {},
   "outputs": [],
   "source": [
    "1"
   ]
  },
  {
   "cell_type": "markdown",
   "metadata": {},
   "source": [
    "## cv2 one not working"
   ]
  },
  {
   "cell_type": "code",
   "execution_count": 2,
   "metadata": {},
   "outputs": [
    {
     "ename": "KeyboardInterrupt",
     "evalue": "",
     "output_type": "error",
     "traceback": [
      "\u001b[1;31m---------------------------------------------------------------------------\u001b[0m",
      "\u001b[1;31mKeyboardInterrupt\u001b[0m                         Traceback (most recent call last)",
      "\u001b[1;32m<ipython-input-2-f591eb2d45f9>\u001b[0m in \u001b[0;36m<module>\u001b[1;34m()\u001b[0m\n\u001b[0;32m      2\u001b[0m \u001b[1;33m\u001b[0m\u001b[0m\n\u001b[0;32m      3\u001b[0m \u001b[1;32mwhile\u001b[0m \u001b[1;32mTrue\u001b[0m\u001b[1;33m:\u001b[0m\u001b[1;33m\u001b[0m\u001b[0m\n\u001b[1;32m----> 4\u001b[1;33m     \u001b[0mk\u001b[0m \u001b[1;33m=\u001b[0m \u001b[0mcv2\u001b[0m\u001b[1;33m.\u001b[0m\u001b[0mwaitKey\u001b[0m\u001b[1;33m(\u001b[0m\u001b[1;36m1\u001b[0m\u001b[1;33m)\u001b[0m \u001b[1;33m&\u001b[0m \u001b[1;36m0xFF\u001b[0m\u001b[1;33m\u001b[0m\u001b[0m\n\u001b[0m\u001b[0;32m      5\u001b[0m     \u001b[1;31m# press 'q' to exit\u001b[0m\u001b[1;33m\u001b[0m\u001b[1;33m\u001b[0m\u001b[0m\n\u001b[0;32m      6\u001b[0m     \u001b[1;32mif\u001b[0m \u001b[0mk\u001b[0m \u001b[1;33m==\u001b[0m \u001b[0mord\u001b[0m\u001b[1;33m(\u001b[0m\u001b[1;34m'q'\u001b[0m\u001b[1;33m)\u001b[0m\u001b[1;33m:\u001b[0m\u001b[1;33m\u001b[0m\u001b[0m\n",
      "\u001b[1;31mKeyboardInterrupt\u001b[0m: "
     ]
    }
   ],
   "source": [
    "import cv2\n",
    "\n",
    "while True:\n",
    "    k = cv2.waitKey(1) & 0xFF\n",
    "    # press 'q' to exit\n",
    "    if k == ord('q'):\n",
    "        break\n",
    "    elif k == ord('b'):\n",
    "        print('b')\n",
    "    elif k == ord('k'):\n",
    "        print('k')"
   ]
  },
  {
   "cell_type": "code",
   "execution_count": null,
   "metadata": {},
   "outputs": [],
   "source": []
  },
  {
   "cell_type": "code",
   "execution_count": 5,
   "metadata": {},
   "outputs": [],
   "source": [
    "import pyautogui\n",
    "import time\n",
    "import tkinter as tk\n",
    "\n",
    "\n",
    "def create(): \n",
    "    while True:\n",
    "        pyautogui.press('numlock')\n",
    "        time.sleep(4)\n",
    "\n",
    "        \n",
    "def Draw():\n",
    "    global text\n",
    "\n",
    "    # Create the main container\n",
    "    frame = tk.Frame(root)\n",
    "    root.title(\"Lock Prevent\")\n",
    "\n",
    "    # Lay out the main container, specify that we want it to grow with window size\n",
    "    frame.pack(fill=tk.BOTH, expand=False)\n",
    "    frame.pack_propagate(0)\n",
    "    # Allow middle cell of grid to grow when window is resized\n",
    "    frame.columnconfigure(1, weight=1)\n",
    "    frame.rowconfigure(1, weight=1)\n",
    "\n",
    "    \n",
    "    \n",
    "    text=tk.Label(frame,text='Lock Prevent')\n",
    "    button_createPR = tk.Button(frame, text=\"Create PR\", command=create)\n",
    "       \n",
    "    \n",
    "    text.grid(row=0, column=0, padx=5, pady=5)\n",
    "    button_createPR.grid(row=0, column=1, padx=5, pady=5) \n",
    "\n",
    "def Refresher():\n",
    "    global text\n",
    "    currposi=pyautogui.position()\n",
    "    L1=list(currposi)\n",
    "    S1=str(L1[0])+','+str(L1[1])\n",
    "    text.configure(width=20,text=S1)\n",
    "\n",
    "    root.after(10, Refresher) # every second...\n",
    "\n",
    "    \n",
    "    \n",
    "\n",
    "root=tk.Tk()\n",
    "copyText= tk.StringVar()\n",
    "Draw()\n",
    "Refresher()\n",
    "\n",
    "\n",
    "root.mainloop()\n"
   ]
  },
  {
   "cell_type": "code",
   "execution_count": 6,
   "metadata": {},
   "outputs": [
    {
     "name": "stdout",
     "output_type": "stream",
     "text": [
      "Preventing screen lock, Type Anything in the box to disable\n",
      "1\n",
      "1\n",
      "1\n",
      "1\n",
      "1\n",
      "22\n"
     ]
    }
   ],
   "source": [
    "import threading\n",
    "import time\n",
    "import pyautogui\n",
    "\n",
    "keep_going = True\n",
    "def key_capture_thread():\n",
    "    global keep_going\n",
    "    input()\n",
    "    keep_going = False\n",
    "    \n",
    "    \n",
    "    \n",
    "def do_stuff():\n",
    "    t = threading.Thread(target = key_capture_thread)\n",
    "    t.daemon = True #classifying this as a demon so that it will die when all the jobs finish\n",
    "    t.start() #start the threading after defining the above\n",
    "\n",
    "    while keep_going:\n",
    "        pyautogui.press('numlock')\n",
    "        pyautogui.press('numlock')\n",
    "        time.sleep(5)\n",
    "        \n",
    "print('Preventing screen lock, Type Anything in the box to disable')\n",
    "do_stuff()"
   ]
  },
  {
   "cell_type": "code",
   "execution_count": 2,
   "metadata": {},
   "outputs": [
    {
     "name": "stdout",
     "output_type": "stream",
     "text": [
      "^C\n"
     ]
    }
   ],
   "source": [
    "# Install a pip package in the current Jupyter kernel\n",
    "import sys\n",
    "!{sys.executable} -m pip install pyautogui"
   ]
  },
  {
   "cell_type": "code",
   "execution_count": null,
   "metadata": {},
   "outputs": [],
   "source": []
  }
 ],
 "metadata": {
  "kernelspec": {
   "display_name": "Python 3",
   "language": "python",
   "name": "python3"
  },
  "language_info": {
   "codemirror_mode": {
    "name": "ipython",
    "version": 3
   },
   "file_extension": ".py",
   "mimetype": "text/x-python",
   "name": "python",
   "nbconvert_exporter": "python",
   "pygments_lexer": "ipython3",
   "version": "3.9.4"
  }
 },
 "nbformat": 4,
 "nbformat_minor": 2
}
