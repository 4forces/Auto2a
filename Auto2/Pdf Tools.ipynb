{
 "cells": [
  {
   "cell_type": "code",
   "execution_count": 1,
   "metadata": {},
   "outputs": [],
   "source": [
    "import csv\n",
    "import glob\n",
    "from PyPDF2 import PdfFileMerger,PdfFileWriter, PdfFileReader\n",
    "\n",
    "\n",
    "# import os"
   ]
  },
  {
   "cell_type": "code",
   "execution_count": 2,
   "metadata": {},
   "outputs": [],
   "source": [
    "  \n",
    "def searchfile(clipdata):\n",
    "    count = 0\n",
    "    filep = 'C:/Users/Tong Tiong Han/OneDrive - Step Surgical Solutions Pte Ltd/Step Surgical/Purchases/**/*' + clipdata + '*'\n",
    "    for filename in glob.iglob(filep, recursive=True):      #search for file in location\n",
    "        print(filename)\n",
    "        count+=1\n",
    "    return filename\n",
    "#     if count>0:    \n",
    "#         os.startfile(filename,\"print\")\n",
    "#         return \"printed\"\n",
    "#     else:\n",
    "#         return \"cannot find\"\n",
    "    \n",
    "    \n",
    "def mergepdfs():  \n",
    "    with open('C:/Users/Tong Tiong Han/OneDrive - Step Surgical Solutions Pte Ltd/Step Surgical/Purchases/pdf-merger.csv') as csv_file:\n",
    "        csv_reader = csv.reader(csv_file, delimiter=',')\n",
    "        line_count=0\n",
    "        pdfs=[]\n",
    "        for row in csv_reader:\n",
    "            try:\n",
    "                print(\"\\n\",row[0])\n",
    "                pdfs.append(searchfile(row[0]))\n",
    "            except:\n",
    "                print (\">>>>>some error on this line<<<<<<<\")\n",
    "            if line_count==0:\n",
    "                name = row[0]\n",
    "            line_count += 1\n",
    "        print(pdfs,'\\n\\n')\n",
    "        pdfmerger(pdfs,name)\n",
    "        print(f'Processed {line_count} lines.')\n",
    "\n",
    "#     speak = wincl.Dispatch(\"SAPI.SpVoice\")\n",
    "#     speak.Speak(\"Operation Completed\")\n",
    "\n",
    "    \n",
    "def pdfmerger(pdf_to_merge,name):\n",
    "    merger = PdfFileMerger()\n",
    "    for pdf in pdf_to_merge:\n",
    "        merger.append(pdf)\n",
    "    print (merger)\n",
    "    merger.write('C:/Users/Tong Tiong Han/Desktop/'+name+'_merged.pdf')\n",
    "    merger.close()\n",
    "\n"
   ]
  },
  {
   "cell_type": "code",
   "execution_count": 3,
   "metadata": {},
   "outputs": [
    {
     "name": "stdout",
     "output_type": "stream",
     "text": [
      "\n",
      " PR-SSS-2021-0007 BDO Admin and Support charges1\n",
      "C:/Users/Tong Tiong Han/OneDrive - Step Surgical Solutions Pte Ltd/Step Surgical/Purchases\\PR\\PR-SSS-2021-0007 BDO Admin and Support charges1.pdf\n",
      "\n",
      " BDO - INV 323612\n",
      "C:/Users/Tong Tiong Han/OneDrive - Step Surgical Solutions Pte Ltd/Step Surgical/Purchases\\Invoice\\BDO - INV 323612.pdf\n",
      "['C:/Users/Tong Tiong Han/OneDrive - Step Surgical Solutions Pte Ltd/Step Surgical/Purchases\\\\PR\\\\PR-SSS-2021-0007 BDO Admin and Support charges1.pdf', 'C:/Users/Tong Tiong Han/OneDrive - Step Surgical Solutions Pte Ltd/Step Surgical/Purchases\\\\Invoice\\\\BDO - INV 323612.pdf'] \n",
      "\n",
      "\n",
      "<PyPDF2.merger.PdfFileMerger object at 0x000001D2490E6A90>\n",
      "Processed 2 lines.\n"
     ]
    }
   ],
   "source": [
    "mergepdfs()"
   ]
  },
  {
   "cell_type": "code",
   "execution_count": 29,
   "metadata": {},
   "outputs": [],
   "source": [
    "# pages_to_keep = [0, 1, 2,3,4,5,6,7,8,9,10,11,12,13,14,15,16,17,18,19,20,21,22,23,24,25] # page numbering starts from 0\n",
    "pages_to_keep = [0, 1, 2,3,4,5,6,7,8,9,10,11,12,13,16,17,25,19,20,21,22,23,24] # page numbering starts from 0\n",
    "\n",
    "\n",
    "nama='2021 claim apr_merged'\n",
    "\n",
    "infile = PdfFileReader('C:/Users/Tong Tiong Han/Desktop/'+nama+'.pdf', 'rb')\n",
    "output = PdfFileWriter()\n",
    "\n",
    "for i in pages_to_keep:\n",
    "    p = infile.getPage(i)\n",
    "    output.addPage(p)\n",
    "\n",
    "with open('C:/Users/Tong Tiong Han/Desktop/'+nama+'2.pdf', 'wb') as f:\n",
    "    output.write(f)"
   ]
  },
  {
   "cell_type": "code",
   "execution_count": 30,
   "metadata": {},
   "outputs": [
    {
     "data": {
      "text/plain": [
       "0"
      ]
     },
     "execution_count": 30,
     "metadata": {},
     "output_type": "execute_result"
    }
   ],
   "source": [
    "import os\n",
    "os.system(\"rundll32.exe powrprof.dll,SetSuspendState 0,1,0\")"
   ]
  },
  {
   "cell_type": "code",
   "execution_count": null,
   "metadata": {},
   "outputs": [],
   "source": []
  }
 ],
 "metadata": {
  "kernelspec": {
   "display_name": "Python 3",
   "language": "python",
   "name": "python3"
  },
  "language_info": {
   "codemirror_mode": {
    "name": "ipython",
    "version": 3
   },
   "file_extension": ".py",
   "mimetype": "text/x-python",
   "name": "python",
   "nbconvert_exporter": "python",
   "pygments_lexer": "ipython3",
   "version": "3.8.3"
  }
 },
 "nbformat": 4,
 "nbformat_minor": 4
}